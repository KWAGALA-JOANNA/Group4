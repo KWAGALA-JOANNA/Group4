{
 "cells": [
  {
   "cell_type": "code",
   "execution_count": 1,
   "metadata": {},
   "outputs": [],
   "source": [
    "import math"
   ]
  },
  {
   "cell_type": "code",
   "execution_count": 3,
   "metadata": {},
   "outputs": [
    {
     "name": "stdout",
     "output_type": "stream",
     "text": [
      "Logarithm base 2 of 16 is : 4.0\n"
     ]
    }
   ],
   "source": [
    "# Python code to demonstrate the working of log2(a)\n",
    "# In this code we display the power property\n",
    "# Printing the log base 2 of 16\n",
    "print (\"Logarithm base 2 of 16 is : \", end=\"\")\n",
    "print (math.log2(16))"
   ]
  },
  {
   "cell_type": "code",
   "execution_count": 4,
   "metadata": {},
   "outputs": [
    {
     "name": "stdout",
     "output_type": "stream",
     "text": [
      "Logarithm base 2 of 6 is : 2.584962500721156\n"
     ]
    }
   ],
   "source": [
    "# Python code to demonstrate the working of\n",
    "# log2(a)\n",
    "# In this code we display the product property\n",
    " \n",
    "# Printing the log base 2 of 6\n",
    "print (\"Logarithm base 2 of 6 is : \", end=\"\")\n",
    "print (math.log2(6))"
   ]
  },
  {
   "cell_type": "code",
   "execution_count": 6,
   "metadata": {},
   "outputs": [
    {
     "name": "stdout",
     "output_type": "stream",
     "text": [
      "Logarithm base 10 of 14 is : -0.6989700043360187\n"
     ]
    }
   ],
   "source": [
    "# Python code to demonstrate the working of\n",
    "# log10(a)\n",
    "#In this code we display the quotient rule\n",
    "\n",
    "# Printing the log base 10 of 14\n",
    "print (\"Logarithm base 10 of 14 is : \", end=\"\")\n",
    "print (math.log10(0.2))\n"
   ]
  },
  {
   "cell_type": "code",
   "execution_count": 7,
   "metadata": {},
   "outputs": [],
   "source": [
    "from math import log2"
   ]
  },
  {
   "cell_type": "code",
   "execution_count": 5,
   "metadata": {},
   "outputs": [
    {
     "name": "stdout",
     "output_type": "stream",
     "text": [
      "The number of digits in 73293 are : 5.8650624984263615\n"
     ]
    }
   ],
   "source": [
    "# Python code to demonstrate the Application of\n",
    "# log10(a)\n",
    "import math\n",
    "# Printing no. of  digits in 73293\n",
    "print (\"The number of digits in 73293 are : \", end=\"\")\n",
    "print ( int(math.log10(73293) + 1))"
   ]
  },
  {
   "cell_type": "code",
   "execution_count": 6,
   "metadata": {},
   "outputs": [
    {
     "name": "stdout",
     "output_type": "stream",
     "text": [
      "(0.34657359027997264+0.7853981633974483j)\n",
      "0j\n"
     ]
    }
   ],
   "source": [
    "#Import cmath Library\n",
    "import cmath \n",
    "# cmath finds the log of a complex value\n",
    "# print log value of some given parameters\n",
    "print (cmath.log(1+ 1j))\n",
    "print (cmath.log(1, 2.5))\n"
   ]
  },
  {
   "cell_type": "code",
   "execution_count": 8,
   "metadata": {},
   "outputs": [
    {
     "name": "stdout",
     "output_type": "stream",
     "text": [
      "[1.         1.5849625  2.         2.32192809 2.5849625  2.80735492]\n"
     ]
    }
   ],
   "source": [
    "import numpy as np\n",
    "array = np.arange(2, 8)\n",
    "# we are looking for the log of the range between 2 and 8\n",
    "print(np.log2(array))\n"
   ]
  },
  {
   "cell_type": "code",
   "execution_count": 16,
   "metadata": {},
   "outputs": [
    {
     "name": "stdout",
     "output_type": "stream",
     "text": [
      "Logarithm(1+a) value of 9 is : 2.302585092994046\n"
     ]
    }
   ],
   "source": [
    "# Python code to demonstrate the working of log1p(a)\n",
    "# log1p() returns log(1+number), \n",
    "# Printing the log(1+a) of 9\n",
    "print (\"Logarithm(1+a) value of 9 is : \", end=\"\")\n",
    "print (math.log1p(9))"
   ]
  }
 ],
 "metadata": {
  "kernelspec": {
   "display_name": "base",
   "language": "python",
   "name": "python3"
  },
  "language_info": {
   "codemirror_mode": {
    "name": "ipython",
    "version": 3
   },
   "file_extension": ".py",
   "mimetype": "text/x-python",
   "name": "python",
   "nbconvert_exporter": "python",
   "pygments_lexer": "ipython3",
   "version": "3.11.4"
  }
 },
 "nbformat": 4,
 "nbformat_minor": 2
}
